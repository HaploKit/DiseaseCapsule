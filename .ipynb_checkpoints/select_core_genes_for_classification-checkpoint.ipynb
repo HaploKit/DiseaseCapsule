{
 "cells": [
  {
   "cell_type": "markdown",
   "id": "valid-theta",
   "metadata": {},
   "source": [
    "# import packages"
   ]
  },
  {
   "cell_type": "code",
   "execution_count": 1,
   "id": "popular-bleeding",
   "metadata": {
    "ExecuteTime": {
     "end_time": "2021-11-03T16:58:30.413596Z",
     "start_time": "2021-11-03T16:58:28.144347Z"
    }
   },
   "outputs": [],
   "source": [
    "\n",
    "import json\n",
    "import csv\n",
    "import numpy as np\n",
    "import os\n",
    "import sys\n",
    "import pandas as pd\n",
    "import random\n",
    "import matplotlib.pyplot as plt\n",
    "import seaborn as sns\n",
    "from itertools import product\n",
    "import pickle\n",
    "import copy\n",
    "from sklearn.model_selection import train_test_split\n",
    "from sklearn.metrics import confusion_matrix\n",
    "\n",
    "import torch\n",
    "import torch.nn.functional as F\n",
    "from torch.nn.functional import relu,tanh\n",
    "from torch import nn\n",
    "from torch.autograd import Variable\n",
    "from torch.optim import Adam\n",
    "import torch.optim as optim\n",
    "from torch.utils.data import TensorDataset, DataLoader\n",
    "\n",
    "from livelossplot import PlotLosses\n",
    "from torchsummary import summary\n",
    "\n",
    "from tensorflow.keras.utils import plot_model\n",
    "\n",
    "\n"
   ]
  },
  {
   "cell_type": "markdown",
   "id": "chubby-corporation",
   "metadata": {},
   "source": [
    "# define models"
   ]
  },
  {
   "cell_type": "code",
   "execution_count": 2,
   "id": "spanish-isolation",
   "metadata": {
    "ExecuteTime": {
     "end_time": "2021-11-03T16:58:30.529647Z",
     "start_time": "2021-11-03T16:58:30.415682Z"
    }
   },
   "outputs": [],
   "source": [
    "\n",
    "\n",
    "\n",
    "class ConvCaps2D(nn.Module):\n",
    "    def __init__(self):\n",
    "        super(ConvCaps2D, self).__init__()\n",
    "        # The paper suggests having 32 8D capsules\n",
    "        self.capsules = nn.ModuleList([nn.Conv2d(in_channels=1, out_channels = primary_capslen,\n",
    "                                                 kernel_size=(1,ks), stride=stride) for _ in range(filters)])\n",
    "\n",
    "    def squash(self, tensor, dim=-1):\n",
    "        norm = (tensor**2).sum(dim=dim, keepdim = True) # norm.size() is (None, 1152, 1)\n",
    "        scale = norm / (1 + norm) # scale.size()  is (None, 1152, 1)\n",
    "        return scale*tensor / torch.sqrt(norm)\n",
    "\n",
    "    def forward(self, x):\n",
    "        outputs = [capsule(x).view(x.size(0), primary_capslen, -1) for capsule in self.capsules] # 32 list of (None, 1, 8, 36)\n",
    "        outputs = torch.cat(outputs, dim = 2).permute(0, 2, 1)  # outputs.size() is (None, 1152, 8)\n",
    "        return self.squash(outputs)\n",
    "\n",
    "\n",
    "class Caps1D(nn.Module):\n",
    "    def __init__(self):\n",
    "        super(Caps1D, self).__init__()\n",
    "        self.num_iterations = num_iterations\n",
    "        self.num_caps = 2 # equals to class number\n",
    "        self.num_routes= (int((neurons-ks)/stride)+1)*filters\n",
    "        print('num_routes:{}'.format(self.num_routes))\n",
    "        self.in_channels=primary_capslen\n",
    "        self.out_channels=digital_capslen\n",
    "\n",
    "        self.W = nn.Parameter(torch.randn(self.num_caps,self.num_routes, self.in_channels, self.out_channels)) # class,weight,len_capsule,capsule_layer\n",
    "#         self.W = nn.Parameter(torch.randn(3, 3136, 8, 32)) # num_caps, num_routes, in_channels, out_channels\n",
    "    \n",
    "    \n",
    "    def softmax2(self, x, axis=-1):\n",
    "        ex = K.exp(x - K.max(x, axis=axis, keepdims=True))\n",
    "        return ex/K.sum(ex, axis=axis, keepdims=True)\n",
    "\n",
    "    def softmax(self, x, dim = 1):\n",
    "        transposed_input = x.transpose(dim, len(x.size()) - 1)\n",
    "        softmaxed_output = F.softmax(transposed_input.contiguous().view(-1, transposed_input.size(-1)))\n",
    "        return softmaxed_output.view(*transposed_input.size()).transpose(dim, len(x.size()) - 1)\n",
    "\n",
    "    def squash(self, tensor, dim=-1):\n",
    "        norm = (tensor**2).sum(dim=dim, keepdim = True) # norm.size() is (None, 1152, 1)\n",
    "        scale = norm / (1 + norm)\n",
    "        return scale*tensor / torch.sqrt(norm)\n",
    "\n",
    "    # Routing algorithm\n",
    "    def forward(self, u):\n",
    "        # u.size() is (None, 1152, 8)\n",
    "        '''\n",
    "        From documentation\n",
    "        For example, if tensor1 is a j x 1 x n x m Tensor and tensor2 is a k x m x p Tensor,\n",
    "        out will be an j x k x n x p Tensor.\n",
    "\n",
    "        We need j = None, 1, n = 1152, k = 10, m = 8, p = 16\n",
    "        '''\n",
    "\n",
    "        u_ji = torch.matmul(u[:, None, :, None, :], self.W) # u_ji.size() is (None, 10, 1152, 1, 16)\n",
    "\n",
    "        b = Variable(torch.zeros(u_ji.size())) # b.size() is (None, 10, 1152, 1, 16)\n",
    "        b = b.to(device) # using gpu\n",
    "\n",
    "        for i in range(self.num_iterations):\n",
    "            c = self.softmax(b, dim=2)\n",
    "            v = self.squash((c * u_ji).sum(dim=2, keepdim=True)) # v.size() is (None, 10, 1, 1, 16)\n",
    "\n",
    "            if i != self.num_iterations - 1:\n",
    "                delta_b = (u_ji * v).sum(dim=-1, keepdim=True)\n",
    "                b = b + delta_b\n",
    "\n",
    "        # Now we simply compute the length of the vectors and take the softmax to get probability.\n",
    "        v = v.squeeze()\n",
    "        classes = (v ** 2).sum(dim=-1) ** 0.5\n",
    "        classes = F.softmax(classes) # This is not done in the paper, but I've done this to use CrossEntropyLoss.\n",
    "        \n",
    "        #save C_ij\n",
    "        c_ij=c.data.cpu().numpy()\n",
    "#         print('c_ij shape:{}'.format(c_ij.shape)) #shape:(1040, 2, 2336, 1, 16)\n",
    "        c_ij=c_ij[:,:,:,-1,-1] #the value in '16' dim is the same\n",
    "        np.save('C_ij.npy',c_ij) #shape:(1040, 2, 2336)\n",
    "        \n",
    "        return classes\n",
    "\n",
    "\n",
    "# for name, param in model.named_parameters():\n",
    "#     if param.device.type != 'cuda:0':\n",
    "#         print('param {}, not on GPU'.format(name))\n",
    "\n",
    "class CapsNet(nn.Module):\n",
    "    def __init__(self):\n",
    "#         super().__init__() #py3\n",
    "        super(CapsNet, self).__init__() #py2\n",
    "        self.fc1 = nn.Linear(top_k,neurons)\n",
    "        self.dropout1 = nn.Dropout(p=dropout)\n",
    "#         self.fc2 = nn.Linear(256,64)\n",
    "#         self.out_channel=16\n",
    "#         self.conv1 = nn.Conv2d(in_channels = 1, out_channels = self.out_channel, kernel_size = (1,3), stride = 1)\n",
    "#         self.conv1_bn = nn.BatchNorm2d(self.out_channel)\n",
    "\n",
    "#         self.conv2 = nn.Conv2d(in_channels = self.out_channel, out_channels = 2*self.out_channel, kernel_size = (3,3), stride = 2)\n",
    "#         self.conv2_bn = nn.BatchNorm2d(2*self.out_channel)\n",
    "\n",
    "#         self.conv3 = nn.Conv2d(in_channels = 2*self.out_channel, out_channels = 2*2*self.out_channel, kernel_size = (3,3), stride = 1)\n",
    "#         self.conv3_bn = nn.BatchNorm2d(2*2*self.out_channel)\n",
    "\n",
    "        self.primaryCaps = ConvCaps2D()\n",
    "        self.digitCaps = Caps1D()\n",
    "\n",
    "\n",
    "    def forward(self, x):\n",
    "        x = act(self.dropout1(self.fc1(x)))\n",
    "#         x = F.relu(self.fc1(x))\n",
    "#         x = F.relu(self.fc2(x))\n",
    "#         x = F.relu(self.conv1_bn(self.conv1(x)))\n",
    "#         x = F.relu(self.conv2_bn(self.conv2(x)))\n",
    "#         x = F.relu(self.conv3_bn(self.conv3(x)))\n",
    "        x = self.primaryCaps(x)\n",
    "        x = self.digitCaps(x)\n",
    "\n",
    "        return x\n",
    "\n"
   ]
  },
  {
   "cell_type": "code",
   "execution_count": 3,
   "id": "apparent-homeless",
   "metadata": {
    "ExecuteTime": {
     "end_time": "2021-11-03T16:58:30.566107Z",
     "start_time": "2021-11-03T16:58:30.562151Z"
    }
   },
   "outputs": [],
   "source": [
    "top_k=75584\n",
    "\n",
    "#use the best param, id:89\n",
    "neurons=150\n",
    "dropout=0.5\n",
    "primary_capslen=4\n",
    "digital_capslen=16\n",
    "ks=5\n",
    "stride=2\n",
    "filters=32\n",
    "num_iterations=3 #danymic routing iterations\n",
    "\n",
    "##\n",
    "initial_lr=0.0001\n",
    "batch_size=128\n",
    "epochs=30\n",
    "act=relu"
   ]
  },
  {
   "cell_type": "code",
   "execution_count": 4,
   "id": "clean-tattoo",
   "metadata": {
    "ExecuteTime": {
     "end_time": "2021-11-03T16:58:31.097783Z",
     "start_time": "2021-11-03T16:58:31.083691Z"
    }
   },
   "outputs": [
    {
     "data": {
      "text/plain": [
       "73"
      ]
     },
     "execution_count": 4,
     "metadata": {},
     "output_type": "execute_result"
    },
    {
     "data": {
      "text/plain": [
       "2336"
      ]
     },
     "execution_count": 4,
     "metadata": {},
     "output_type": "execute_result"
    },
    {
     "data": {
      "text/plain": [
       "928"
      ]
     },
     "execution_count": 4,
     "metadata": {},
     "output_type": "execute_result"
    },
    {
     "data": {
      "text/plain": [
       "1152"
      ]
     },
     "execution_count": 4,
     "metadata": {},
     "output_type": "execute_result"
    }
   ],
   "source": [
    "(int((neurons-ks)/stride)+1)\n",
    "73*32\n",
    "29*32\n",
    "36*32"
   ]
  },
  {
   "cell_type": "code",
   "execution_count": 5,
   "id": "indoor-hypothesis",
   "metadata": {
    "ExecuteTime": {
     "end_time": "2021-11-03T16:58:36.232546Z",
     "start_time": "2021-11-03T16:58:32.169531Z"
    }
   },
   "outputs": [
    {
     "name": "stdout",
     "output_type": "stream",
     "text": [
      "num_routes:2336\n"
     ]
    }
   ],
   "source": [
    "device = torch.device('cuda:0')\n",
    "model = CapsNet()\n",
    "model.load_state_dict(torch.load(\"./capsule_pca.best_model.pt\")) #recommended officically\n",
    "model.eval()\n",
    "model.to(device);\n",
    "# model.fc1.weight.data"
   ]
  },
  {
   "cell_type": "code",
   "execution_count": 6,
   "id": "attempted-spray",
   "metadata": {
    "ExecuteTime": {
     "end_time": "2021-11-03T16:58:40.759237Z",
     "start_time": "2021-11-03T16:58:36.234498Z"
    }
   },
   "outputs": [
    {
     "name": "stdout",
     "output_type": "stream",
     "text": [
      "(10405, 75584)\n"
     ]
    },
    {
     "data": {
      "text/plain": [
       "(10405, 75584)"
      ]
     },
     "execution_count": 6,
     "metadata": {},
     "output_type": "execute_result"
    },
    {
     "data": {
      "text/plain": [
       "(10405, 2)"
      ]
     },
     "execution_count": 6,
     "metadata": {},
     "output_type": "execute_result"
    }
   ],
   "source": [
    "\n",
    "# read once a time\n",
    "dataset_X,_=pickle.load(open('sigSNPs_pca.features.pkl','rb'))\n",
    "print(dataset_X.shape)\n",
    "\n",
    "dataset_X=np.array(dataset_X) # extract selected features\n",
    "\n",
    "_,dataset_Y=pickle.load(open('../chr1/genes/A3GALT2.pkl','rb'))\n",
    "\n",
    "dataset_X.shape\n",
    "dataset_Y.shape\n",
    "\n",
    "\n"
   ]
  },
  {
   "cell_type": "code",
   "execution_count": 7,
   "id": "scheduled-daniel",
   "metadata": {
    "ExecuteTime": {
     "end_time": "2021-11-03T16:58:40.763496Z",
     "start_time": "2021-11-03T16:58:40.761404Z"
    }
   },
   "outputs": [],
   "source": [
    "\n",
    "# # train dataset\n",
    "# train_idx = [int(line.strip()) for line in open(\"../train_val.unique.idx\", 'r')]\n",
    "# x_train=dataset_X[train_idx]\n",
    "\n",
    "# # test dataset\n",
    "# te_idx = [int(line.strip()) for line in open(\"../test.idx\", 'r')]\n",
    "# x_test=dataset_X[te_idx]\n",
    "# x_train.shape\n",
    "# x_test.shape\n",
    "\n",
    "\n",
    "# x_train=x_train.reshape(x_train.shape[0],1,1,x_train.shape[1])\n",
    "\n",
    "# x_test=x_test.reshape(x_test.shape[0],1,1,x_test.shape[1])\n",
    "\n",
    "# y_train =dataset_Y[train_idx]\n",
    "\n",
    "# y_train = np.argmax(y_train, axis=1)\n",
    "\n",
    "# y_test =dataset_Y[te_idx]\n",
    "\n",
    "# y_test = np.argmax(y_test, axis=1)\n"
   ]
  },
  {
   "cell_type": "code",
   "execution_count": 8,
   "id": "determined-kidney",
   "metadata": {
    "ExecuteTime": {
     "end_time": "2021-11-03T16:58:40.766961Z",
     "start_time": "2021-11-03T16:58:40.765164Z"
    }
   },
   "outputs": [],
   "source": [
    "# in_train=Variable(torch.tensor(x_train[:500]).to(device))\n",
    "# y_pred = model(in_train).detach().cpu().numpy()\n",
    "# y_pred = np.argmax(y_pred, axis=1)\n",
    "# y_true = y_train[:500]"
   ]
  },
  {
   "cell_type": "markdown",
   "id": "ranking-roller",
   "metadata": {},
   "source": [
    "# Compute C_ij for training data (need to split dataset then merge)"
   ]
  },
  {
   "cell_type": "code",
   "execution_count": 9,
   "id": "complicated-panic",
   "metadata": {
    "ExecuteTime": {
     "end_time": "2021-11-03T16:58:40.774486Z",
     "start_time": "2021-11-03T16:58:40.768396Z"
    }
   },
   "outputs": [],
   "source": [
    "def compute_average_cij_for_testdata(x_test,y_test):\n",
    "    in_test=Variable(torch.tensor(x_test).to(device))\n",
    "    y_pred = model(in_test).detach().cpu().numpy()\n",
    "    y_pred = np.argmax(y_pred, axis=1)\n",
    "    y_true = y_test\n",
    "    \n",
    "    c=np.load('C_ij.npy')\n",
    "    c=c.reshape(c.shape[0],c.shape[1],32,73)\n",
    "    c=np.sum(c,axis=-1)\n",
    "\n",
    "    num_classes=2\n",
    "    phenotype = ['Healthy','ALS']\n",
    "    pheno2coefficients={}\n",
    "    count = {}\n",
    "    for i in range(len(c)):\n",
    "        ind = int(y_test[i])     #phenotype\n",
    "        if ind in pheno2coefficients.keys():\n",
    "            pheno2coefficients[ind] = pheno2coefficients[ind] + c[i]   #sum of coupling coefficients for each phenotype\n",
    "            count[ind] = count[ind] + 1   #sample counts for each type   \n",
    "        else:\n",
    "            pheno2coefficients[ind] = c[i]\n",
    "            count[ind] = 1\n",
    "\n",
    "    total = np.zeros((c.shape[1],c.shape[-1]))\n",
    "\n",
    "    #type average coupling coefficients\n",
    "    for i in range(num_classes):\n",
    "        average = pheno2coefficients[i]/count[i]   #sum/count = average\n",
    "        total[i] = average[i]\n",
    "#     print(total)\n",
    "    Cij=total\n",
    "    return Cij\n"
   ]
  },
  {
   "cell_type": "code",
   "execution_count": 10,
   "id": "fatty-spending",
   "metadata": {
    "ExecuteTime": {
     "end_time": "2021-11-03T16:58:40.783454Z",
     "start_time": "2021-11-03T16:58:40.775932Z"
    }
   },
   "outputs": [],
   "source": [
    "def compute_average_cij_for_traindata(x_train,y_train):\n",
    "    k=int(x_train.shape[0]/1000)+1\n",
    "    y_pred=np.array([])\n",
    "    for i in range(k):\n",
    "        upper = min(x_train.shape[0],(i+1)*1000)\n",
    "    #     print(i,upper)\n",
    "        in_train=Variable(torch.tensor(x_train[(i*1000):upper]).to(device))\n",
    "        y_pred0 = model(in_train).detach().cpu().numpy()\n",
    "        y_pred0 = np.argmax(y_pred0, axis=1)\n",
    "        y_pred = np.concatenate([y_pred,y_pred0])\n",
    "        o=os.system('mv C_ij.npy C_ij.{}.npy'.format(i))\n",
    "    y_true = y_train\n",
    "    y_pred.shape\n",
    "    #merge all Cij\n",
    "    c=np.array([])\n",
    "    for i in range(k):\n",
    "        c0=np.load('C_ij.{}.npy'.format(i))\n",
    "        if i==0:\n",
    "            c=c0\n",
    "        else:\n",
    "            c=np.vstack([c,c0])\n",
    "     \n",
    "    c=c.reshape(c.shape[0],c.shape[1],32,73)\n",
    "    c=np.sum(c,axis=-1)\n",
    "\n",
    "    num_classes=2\n",
    "    phenotype = ['Healthy','ALS']\n",
    "    pheno2coefficients={}\n",
    "    count = {}\n",
    "    for i in range(len(c)):\n",
    "        ind = int(y_train[i])     #phenotype\n",
    "        if ind in pheno2coefficients.keys():\n",
    "            pheno2coefficients[ind] = pheno2coefficients[ind] + c[i]   #sum of coupling coefficients for each phenotype\n",
    "            count[ind] = count[ind] + 1   #sample counts for each type   \n",
    "        else:\n",
    "            pheno2coefficients[ind] = c[i]\n",
    "            count[ind] = 1\n",
    "\n",
    "    total = np.zeros((c.shape[1],c.shape[-1]))\n",
    "\n",
    "    #type average coupling coefficients\n",
    "    for i in range(num_classes):\n",
    "        average = pheno2coefficients[i]/count[i]   #sum/count = average\n",
    "        total[i] = average[i]\n",
    "    Cij=total\n",
    "    Cij.shape\n",
    "    return Cij\n"
   ]
  },
  {
   "cell_type": "code",
   "execution_count": null,
   "id": "apparent-piano",
   "metadata": {},
   "outputs": [],
   "source": []
  },
  {
   "cell_type": "code",
   "execution_count": 11,
   "id": "distinguished-county",
   "metadata": {
    "ExecuteTime": {
     "end_time": "2021-11-03T16:58:42.644319Z",
     "start_time": "2021-11-03T16:58:42.585587Z"
    }
   },
   "outputs": [
    {
     "data": {
      "text/plain": [
       "18265"
      ]
     },
     "execution_count": 11,
     "metadata": {},
     "output_type": "execute_result"
    }
   ],
   "source": [
    "gene2Cij_train_list=[]\n",
    "for i in range(1,5):\n",
    "    t=pickle.load(open('{}/Cij_for_single_gene.{}.pkl'.format(i,i),'rb')) #based on training data\n",
    "    gene2Cij_train_list.extend(t)\n",
    "len(gene2Cij_train_list)"
   ]
  },
  {
   "cell_type": "code",
   "execution_count": 12,
   "id": "boxed-statistics",
   "metadata": {
    "ExecuteTime": {
     "end_time": "2021-11-03T16:58:43.358937Z",
     "start_time": "2021-11-03T16:58:43.320068Z"
    }
   },
   "outputs": [
    {
     "data": {
      "text/plain": [
       "(18265, 2, 32)"
      ]
     },
     "execution_count": 12,
     "metadata": {},
     "output_type": "execute_result"
    }
   ],
   "source": [
    "genes=[]\n",
    "Cij_train_tensor=[]\n",
    "for item in gene2Cij_train_list:\n",
    "    gene,Cij_train=item\n",
    "    genes.append(gene)\n",
    "    Cij_train_tensor.append(Cij_train)\n",
    "#     print(gene,Cij_train.shape)\n",
    "Cij_train_tensor=np.array(Cij_train_tensor)\n",
    "Cij_train_tensor.shape"
   ]
  },
  {
   "cell_type": "code",
   "execution_count": 13,
   "id": "expressed-radical",
   "metadata": {
    "ExecuteTime": {
     "end_time": "2021-11-03T16:58:44.124369Z",
     "start_time": "2021-11-03T16:58:44.118654Z"
    }
   },
   "outputs": [
    {
     "data": {
      "text/plain": [
       "18265"
      ]
     },
     "execution_count": 13,
     "metadata": {},
     "output_type": "execute_result"
    }
   ],
   "source": [
    "len(genes)"
   ]
  },
  {
   "cell_type": "code",
   "execution_count": 14,
   "id": "informative-crown",
   "metadata": {
    "ExecuteTime": {
     "end_time": "2021-11-03T16:58:54.560701Z",
     "start_time": "2021-11-03T16:58:48.547153Z"
    }
   },
   "outputs": [
    {
     "data": {
      "text/plain": [
       "18265"
      ]
     },
     "execution_count": 14,
     "metadata": {},
     "output_type": "execute_result"
    },
    {
     "data": {
      "text/plain": [
       "<matplotlib.axes._subplots.AxesSubplot at 0x7feb0b905850>"
      ]
     },
     "execution_count": 14,
     "metadata": {},
     "output_type": "execute_result"
    },
    {
     "data": {
      "text/plain": [
       "<matplotlib.lines.Line2D at 0x7feb0b947090>"
      ]
     },
     "execution_count": 14,
     "metadata": {},
     "output_type": "execute_result"
    },
    {
     "data": {
      "text/plain": [
       "Text(0.5, 0, 'Coupling coefficient')"
      ]
     },
     "execution_count": 14,
     "metadata": {},
     "output_type": "execute_result"
    },
    {
     "data": {
      "text/plain": [
       "Text(0, 0.5, 'Density')"
      ]
     },
     "execution_count": 14,
     "metadata": {},
     "output_type": "execute_result"
    },
    {
     "data": {
      "text/plain": [
       "369"
      ]
     },
     "execution_count": 14,
     "metadata": {},
     "output_type": "execute_result"
    },
    {
     "data": {
      "text/plain": [
       "922"
      ]
     },
     "execution_count": 14,
     "metadata": {},
     "output_type": "execute_result"
    },
    {
     "data": {
      "text/plain": [
       "183"
      ]
     },
     "execution_count": 14,
     "metadata": {},
     "output_type": "execute_result"
    },
    {
     "data": {
      "text/plain": [
       "6846"
      ]
     },
     "execution_count": 14,
     "metadata": {},
     "output_type": "execute_result"
    },
    {
     "data": {
      "text/plain": [
       "922"
      ]
     },
     "execution_count": 14,
     "metadata": {},
     "output_type": "execute_result"
    },
    {
     "data": {
      "text/plain": [
       "503345"
      ]
     },
     "execution_count": 14,
     "metadata": {},
     "output_type": "execute_result"
    },
    {
     "data": {
      "image/png": "[encoded data removed]",
      "text/plain": [
       "<Figure size 432x288 with 1 Axes>"
      ]
     },
     "metadata": {
      "needs_background": "light"
     },
     "output_type": "display_data"
    }
   ],
   "source": [
    "#for primary capsule i\n",
    "pc=5\n",
    "# pc=28\n",
    "# pc=4\n",
    "# pc=17\n",
    "# v=Cij_train_tensor[:,0,pc-1]\n",
    "v=Cij_train_tensor[:,1,pc-1]\n",
    "len(v)\n",
    "# gene2pc5cij={genes[k]:v_ for k,v_ in enumerate(v)}\n",
    "sns.distplot(v)\n",
    "plt.axvline(x=np.quantile(v,0.95),color='red', linestyle='dashed')\n",
    "# plt.axvline(x=np.quantile(v,0.98),color='green', linestyle='dashed')\n",
    "# plt.axvline(x=np.quantile(v,0.99),color='yellow', linestyle='dashed')\n",
    "plt.xlabel('Coupling coefficient',fontsize=12)\n",
    "plt.ylabel('Density',fontsize=12)\n",
    "sum(v>=np.quantile(v,0.98))\n",
    "sum(v>=np.quantile(v,0.95))\n",
    "sum(v>=np.quantile(v,0.99))\n",
    "\n",
    "target_genes={genes[k]:1 for k,v_ in enumerate(v) if v_>=np.quantile(v,0.95)}\n",
    "# target_genes={genes[k]:1 for k,v_ in enumerate(v) if v_>=np.quantile(v,0.99)}\n",
    "# target_genes={genes[k]:1 for k,v_ in enumerate(v) if v_>=np.quantile(v,0.98)}\n",
    "\n",
    "with open('target_genes.95th_percentile.pc{}'.format(pc),'w') as fw:\n",
    "    fw.write('\\n'.join(list(target_genes.keys())))\n",
    "len(target_genes)\n",
    "\n",
    "with open('sorted_genes2cij.95th_percentile.pc{}'.format(pc),'w') as fw:\n",
    "    g2cij_={genes[k]:v_ for k,v_ in enumerate(v)}\n",
    "    fw.write('\\n'.join(['{}\\t{}'.format(a,b) for a,b in sorted(g2cij_.items(),key=lambda d:d[1],reverse=True)]))\n",
    "    \n",
    "plt.savefig('target_genes.95th_percentile.pc5.dist.png',dpi=400,bbox_inches='tight') #bbox_inches='tight' ,keep all elements in fig\n",
    "plt.show()"
   ]
  },
  {
   "cell_type": "code",
   "execution_count": 15,
   "id": "annoying-graduation",
   "metadata": {
    "ExecuteTime": {
     "end_time": "2021-11-03T16:58:54.566930Z",
     "start_time": "2021-11-03T16:58:54.562519Z"
    }
   },
   "outputs": [
    {
     "data": {
      "text/plain": [
       "922"
      ]
     },
     "execution_count": 15,
     "metadata": {},
     "output_type": "execute_result"
    }
   ],
   "source": [
    "target_genes_pc5={line.strip():1 for line in open(\"target_genes.95th_percentile.pc5\", 'r')}\n",
    "# target_genes_pc4={line.strip():1 for line in open(\"target_genes.pc4\", 'r')}\n",
    "# target_genes_pc28={line.strip():1 for line in open(\"target_genes.pc28\", 'r')}\n",
    "\n",
    "# target_genes={g:1 for g in target_genes_pc5 if (g not in target_genes_pc28 and g not in target_genes_pc4)}\n",
    "len(target_genes)"
   ]
  },
  {
   "cell_type": "markdown",
   "id": "prescribed-knitting",
   "metadata": {},
   "source": [
    "# plot coefficient using all genes on training / test data"
   ]
  },
  {
   "cell_type": "code",
   "execution_count": 36,
   "id": "present-rochester",
   "metadata": {
    "ExecuteTime": {
     "end_time": "2021-11-03T17:07:58.864779Z",
     "start_time": "2021-11-03T17:07:56.627307Z"
    }
   },
   "outputs": [
    {
     "data": {
      "text/plain": [
       "(9365, 75584)"
      ]
     },
     "execution_count": 36,
     "metadata": {},
     "output_type": "execute_result"
    },
    {
     "data": {
      "text/plain": [
       "(1040, 75584)"
      ]
     },
     "execution_count": 36,
     "metadata": {},
     "output_type": "execute_result"
    },
    {
     "name": "stderr",
     "output_type": "stream",
     "text": [
      "/export/scratch1/home/vincent/software/miniconda3/envs/gpu/lib/python3.7/site-packages/ipykernel_launcher.py:39: UserWarning: Implicit dimension choice for softmax has been deprecated. Change the call to include dim=X as an argument.\n",
      "/export/scratch1/home/vincent/software/miniconda3/envs/gpu/lib/python3.7/site-packages/ipykernel_launcher.py:74: UserWarning: Implicit dimension choice for softmax has been deprecated. Change the call to include dim=X as an argument.\n"
     ]
    },
    {
     "name": "stdout",
     "output_type": "stream",
     "text": [
      "0.837\t0.98\t0.903\t0.938\n",
      "\n"
     ]
    }
   ],
   "source": [
    "\n",
    "\n",
    "# train dataset\n",
    "train_idx = [int(line.strip()) for line in open(\"../train_val.unique.idx\", 'r')]\n",
    "x_train=dataset_X[train_idx]\n",
    "\n",
    "# test dataset\n",
    "te_idx = [int(line.strip()) for line in open(\"../test.idx\", 'r')]\n",
    "x_test=dataset_X[te_idx]\n",
    "x_train.shape\n",
    "x_test.shape\n",
    "\n",
    "\n",
    "x_train=x_train.reshape(x_train.shape[0],1,1,x_train.shape[1])\n",
    "\n",
    "x_test=x_test.reshape(x_test.shape[0],1,1,x_test.shape[1])\n",
    "\n",
    "y_train =dataset_Y[train_idx]\n",
    "\n",
    "y_train = np.argmax(y_train, axis=1)\n",
    "\n",
    "y_test =dataset_Y[te_idx]\n",
    "\n",
    "y_test = np.argmax(y_test, axis=1)\n",
    "\n",
    "\n",
    "in_test=Variable(torch.tensor(x_train[:1000]).to(device))\n",
    "# in_test=Variable(torch.tensor(x_test).to(device))\n",
    "y_pred = model(in_test).detach().cpu().numpy()\n",
    "\n",
    "y_pred = np.argmax(y_pred, axis=1)\n",
    "y_true = y_train[:1000]\n",
    "\n",
    "tn, fp, fn, tp = confusion_matrix(y_true, y_pred).ravel()\n",
    "acc = round((tp + tn) * 1. / (tp + fp + tn + fn),3)\n",
    "precision = round(tp*1./(tp+fp),3)\n",
    "recall = round(tp*1./(tp+fn),3)\n",
    "f1=round(2*(precision*recall)/(precision+recall),3)\n",
    "\n",
    "print('\\t'.join(list(map(str,[precision,recall,f1,acc])))+'\\n')"
   ]
  },
  {
   "cell_type": "code",
   "execution_count": null,
   "id": "selected-thursday",
   "metadata": {
    "ExecuteTime": {
     "end_time": "2021-11-03T16:52:18.718613Z",
     "start_time": "2021-11-03T16:52:18.707364Z"
    }
   },
   "outputs": [],
   "source": []
  },
  {
   "cell_type": "code",
   "execution_count": 37,
   "id": "quick-continent",
   "metadata": {
    "ExecuteTime": {
     "end_time": "2021-11-03T17:08:06.672516Z",
     "start_time": "2021-11-03T17:07:59.930140Z"
    }
   },
   "outputs": [
    {
     "name": "stderr",
     "output_type": "stream",
     "text": [
      "/export/scratch1/home/vincent/software/miniconda3/envs/gpu/lib/python3.7/site-packages/ipykernel_launcher.py:39: UserWarning: Implicit dimension choice for softmax has been deprecated. Change the call to include dim=X as an argument.\n",
      "/export/scratch1/home/vincent/software/miniconda3/envs/gpu/lib/python3.7/site-packages/ipykernel_launcher.py:74: UserWarning: Implicit dimension choice for softmax has been deprecated. Change the call to include dim=X as an argument.\n"
     ]
    },
    {
     "data": {
      "image/png": "[encoded data removed]",
      "text/plain": [
       "<Figure size 576x72 with 2 Axes>"
      ]
     },
     "metadata": {
      "needs_background": "light"
     },
     "output_type": "display_data"
    },
    {
     "name": "stdout",
     "output_type": "stream",
     "text": [
      "\n"
     ]
    }
   ],
   "source": [
    "cmap='YlOrBr'\n",
    "phenotype = ['Healthy','ALS']\n",
    "c=compute_average_cij_for_traindata(x_train,y_train)\n",
    "c.shape\n",
    "fs=12\n",
    "\n",
    "#overall heatmap\n",
    "plt.figure(figsize=(8,1))\n",
    "df = pd.DataFrame(np.asmatrix(c),index=phenotype,columns=list(range(1,c.shape[-1]+1)))\n",
    "vmax=np.max(np.asmatrix(df))\n",
    "vmin=np.min(np.asmatrix(df))\n",
    "\n",
    "# ax = sns.heatmap(df,linewidths=.1,cmap=cmap,vmax=vmax,vmin=vmin)\n",
    "ax = sns.heatmap(df,linewidths=.1,cmap=cmap)\n",
    "plt.title('Training data (all genes)',fontsize=fs+1) #Overall(health+ALS)\n",
    "plt.ylabel('PhenoCaps', fontsize=fs)\n",
    "plt.xlabel('PrimaryCaps', fontsize=fs)\n",
    "\n",
    "plt.savefig('capsule_train.all_genes.cc_heatmap.png',dpi=400,bbox_inches='tight') \n",
    "plt.show()\n",
    "print();"
   ]
  },
  {
   "cell_type": "code",
   "execution_count": 18,
   "id": "divine-directive",
   "metadata": {
    "ExecuteTime": {
     "end_time": "2021-11-03T16:59:05.021628Z",
     "start_time": "2021-11-03T16:59:03.742321Z"
    }
   },
   "outputs": [
    {
     "name": "stderr",
     "output_type": "stream",
     "text": [
      "/export/scratch1/home/vincent/software/miniconda3/envs/gpu/lib/python3.7/site-packages/ipykernel_launcher.py:39: UserWarning: Implicit dimension choice for softmax has been deprecated. Change the call to include dim=X as an argument.\n",
      "/export/scratch1/home/vincent/software/miniconda3/envs/gpu/lib/python3.7/site-packages/ipykernel_launcher.py:74: UserWarning: Implicit dimension choice for softmax has been deprecated. Change the call to include dim=X as an argument.\n"
     ]
    },
    {
     "data": {
      "image/png": "[encoded data removed]",
      "text/plain": [
       "<Figure size 576x72 with 2 Axes>"
      ]
     },
     "metadata": {
      "needs_background": "light"
     },
     "output_type": "display_data"
    },
    {
     "name": "stdout",
     "output_type": "stream",
     "text": [
      "\n"
     ]
    }
   ],
   "source": [
    "cmap='YlOrBr'\n",
    "phenotype = ['Healthy','ALS']\n",
    "c=compute_average_cij_for_testdata(x_test,y_test)\n",
    "c.shape\n",
    "fs=12\n",
    "\n",
    "#overall heatmap\n",
    "plt.figure(figsize=(8,1))\n",
    "df = pd.DataFrame(np.asmatrix(c),index=phenotype,columns=list(range(1,c.shape[-1]+1)))\n",
    "ax = sns.heatmap(df,linewidths=.1,cmap=cmap)\n",
    "plt.title('Test data (all genes)',fontsize=fs+1)\n",
    "plt.ylabel('PhenoCaps', fontsize=fs)\n",
    "plt.xlabel('PrimaryCaps', fontsize=fs)\n",
    "plt.savefig('capsule_test.all_genes.cc_heatmap.png',dpi=400,bbox_inches='tight') \n",
    "plt.show()\n",
    "\n",
    "print();"
   ]
  },
  {
   "cell_type": "code",
   "execution_count": 19,
   "id": "surgical-credits",
   "metadata": {
    "ExecuteTime": {
     "end_time": "2021-11-03T16:59:12.701125Z",
     "start_time": "2021-11-03T16:59:05.023540Z"
    }
   },
   "outputs": [
    {
     "name": "stderr",
     "output_type": "stream",
     "text": [
      "/export/scratch1/home/vincent/software/miniconda3/envs/gpu/lib/python3.7/site-packages/ipykernel_launcher.py:39: UserWarning: Implicit dimension choice for softmax has been deprecated. Change the call to include dim=X as an argument.\n",
      "/export/scratch1/home/vincent/software/miniconda3/envs/gpu/lib/python3.7/site-packages/ipykernel_launcher.py:74: UserWarning: Implicit dimension choice for softmax has been deprecated. Change the call to include dim=X as an argument.\n"
     ]
    },
    {
     "data": {
      "image/png": "[encoded data removed]",
      "text/plain": [
       "<Figure size 576x72 with 2 Axes>"
      ]
     },
     "metadata": {
      "needs_background": "light"
     },
     "output_type": "display_data"
    },
    {
     "name": "stdout",
     "output_type": "stream",
     "text": [
      "\n"
     ]
    }
   ],
   "source": [
    "cmap='YlOrBr'\n",
    "phenotype = ['Healthy','ALS']\n",
    "#For both train and test data\n",
    "c=compute_average_cij_for_traindata(np.concatenate([x_train,x_test]),np.concatenate([y_train,y_test])) \n",
    "c.shape\n",
    "fs=12\n",
    "\n",
    "#overall heatmap\n",
    "plt.figure(figsize=(8,1))\n",
    "df = pd.DataFrame(np.asmatrix(c),index=phenotype,columns=list(range(1,c.shape[-1]+1)))\n",
    "ax = sns.heatmap(df,linewidths=.1,cmap=cmap,vmax=vmax,vmin=vmin)\n",
    "plt.title('Train & Test Data, Overall',fontsize=fs+1)\n",
    "plt.ylabel('PhenoCaps', fontsize=fs)\n",
    "plt.xlabel('PrimaryCaps', fontsize=fs)\n",
    "plt.show()\n",
    "\n",
    "print();"
   ]
  },
  {
   "cell_type": "code",
   "execution_count": null,
   "id": "basic-delta",
   "metadata": {},
   "outputs": [],
   "source": []
  },
  {
   "cell_type": "code",
   "execution_count": null,
   "id": "pressing-schedule",
   "metadata": {},
   "outputs": [],
   "source": []
  },
  {
   "cell_type": "code",
   "execution_count": null,
   "id": "organic-alberta",
   "metadata": {},
   "outputs": [],
   "source": []
  },
  {
   "cell_type": "code",
   "execution_count": null,
   "id": "cross-mother",
   "metadata": {},
   "outputs": [],
   "source": []
  },
  {
   "cell_type": "code",
   "execution_count": null,
   "id": "wireless-designer",
   "metadata": {},
   "outputs": [],
   "source": []
  },
  {
   "cell_type": "markdown",
   "id": "average-things",
   "metadata": {},
   "source": [
    "# only feed target genes into capsule network"
   ]
  },
  {
   "cell_type": "code",
   "execution_count": 20,
   "id": "limited-armenia",
   "metadata": {
    "ExecuteTime": {
     "end_time": "2021-11-03T16:59:34.523178Z",
     "start_time": "2021-11-03T16:59:12.703363Z"
    }
   },
   "outputs": [
    {
     "name": "stdout",
     "output_type": "stream",
     "text": [
      "(10405, 75584)\n",
      "(10405,)\n"
     ]
    }
   ],
   "source": [
    "X,Y=pickle.load(open('sigSNPs_pca.features.pkl','rb'))\n",
    "print(X.shape)\n",
    "print(Y.shape)\n",
    "X2=np.array(copy.deepcopy(X))"
   ]
  },
  {
   "cell_type": "code",
   "execution_count": 21,
   "id": "spoken-bouquet",
   "metadata": {
    "ExecuteTime": {
     "end_time": "2021-11-03T16:59:34.529073Z",
     "start_time": "2021-11-03T16:59:34.525320Z"
    }
   },
   "outputs": [],
   "source": [
    "# test dataset\n",
    "te_idx = [int(line.strip()) for line in open(\"../test.idx\", 'r')]\n"
   ]
  },
  {
   "cell_type": "code",
   "execution_count": 22,
   "id": "mineral-master",
   "metadata": {
    "ExecuteTime": {
     "end_time": "2021-11-03T16:59:34.534221Z",
     "start_time": "2021-11-03T16:59:34.530618Z"
    }
   },
   "outputs": [
    {
     "data": {
      "text/plain": [
       "922"
      ]
     },
     "execution_count": 22,
     "metadata": {},
     "output_type": "execute_result"
    }
   ],
   "source": [
    "len(target_genes)"
   ]
  },
  {
   "cell_type": "code",
   "execution_count": 23,
   "id": "productive-colombia",
   "metadata": {
    "ExecuteTime": {
     "end_time": "2021-11-03T16:59:35.674667Z",
     "start_time": "2021-11-03T16:59:34.535682Z"
    }
   },
   "outputs": [
    {
     "data": {
      "text/plain": [
       "(1040, 75584)"
      ]
     },
     "execution_count": 23,
     "metadata": {},
     "output_type": "execute_result"
    }
   ],
   "source": [
    "\n",
    "x_test=X.iloc[te_idx]\n",
    "x_test=np.array(x_test)\n",
    "\n",
    "x_test.shape\n",
    "\n",
    "for i in range(X.shape[1]):\n",
    "    if X.columns[i].split(':')[1] not in target_genes: #there are some duplicated genes located on different chrs\n",
    "#         x_test.iloc[:,i]=0. #replace in dataframe is very slow\n",
    "        x_test[:,i]=0.\n",
    "        X2[:,i]=0.\n",
    "        "
   ]
  },
  {
   "cell_type": "code",
   "execution_count": 24,
   "id": "seventh-annex",
   "metadata": {
    "ExecuteTime": {
     "end_time": "2021-11-03T16:59:36.246700Z",
     "start_time": "2021-11-03T16:59:35.676831Z"
    }
   },
   "outputs": [
    {
     "name": "stderr",
     "output_type": "stream",
     "text": [
      "/export/scratch1/home/vincent/software/miniconda3/envs/gpu/lib/python3.7/site-packages/ipykernel_launcher.py:39: UserWarning: Implicit dimension choice for softmax has been deprecated. Change the call to include dim=X as an argument.\n",
      "/export/scratch1/home/vincent/software/miniconda3/envs/gpu/lib/python3.7/site-packages/ipykernel_launcher.py:74: UserWarning: Implicit dimension choice for softmax has been deprecated. Change the call to include dim=X as an argument.\n"
     ]
    },
    {
     "name": "stdout",
     "output_type": "stream",
     "text": [
      "0.763\t0.754\t0.758\t0.76\n",
      "\n"
     ]
    }
   ],
   "source": [
    "x_test=x_test.reshape(x_test.shape[0],1,1,x_test.shape[1])\n",
    "\n",
    "in_test=Variable(torch.tensor(x_test).to(device))\n",
    "y_pred = model(in_test).detach().cpu().numpy()\n",
    "\n",
    "y_pred = np.argmax(y_pred, axis=1)\n",
    "y_true = y_test\n",
    "\n",
    "\n",
    "tn, fp, fn, tp = confusion_matrix(y_true, y_pred).ravel()\n",
    "acc = round((tp + tn) * 1. / (tp + fp + tn + fn),3)\n",
    "precision = round(tp*1./(tp+fp),3)\n",
    "recall = round(tp*1./(tp+fn),3)\n",
    "f1=round(2*(precision*recall)/(precision+recall),3)\n",
    "\n",
    "print('\\t'.join(list(map(str,[precision,recall,f1,acc])))+'\\n')"
   ]
  },
  {
   "cell_type": "code",
   "execution_count": 106,
   "id": "strange-glance",
   "metadata": {
    "ExecuteTime": {
     "end_time": "2021-11-03T16:54:55.877347Z",
     "start_time": "2021-11-03T16:54:55.875442Z"
    }
   },
   "outputs": [],
   "source": [
    "#quantile98: 0.719\t0.675\t0.696\t0.706\n",
    "#quantile95: 0.763\t0.754\t0.758\t0.760\n",
    "#quantile99: 0.657\t0.585\t0.619\t0.639\n"
   ]
  },
  {
   "cell_type": "code",
   "execution_count": 25,
   "id": "dominant-masters",
   "metadata": {
    "ExecuteTime": {
     "end_time": "2021-11-03T16:59:44.579563Z",
     "start_time": "2021-11-03T16:59:43.269808Z"
    }
   },
   "outputs": [
    {
     "data": {
      "image/png": "[encoded data removed]",
      "text/plain": [
       "<Figure size 576x72 with 2 Axes>"
      ]
     },
     "metadata": {
      "needs_background": "light"
     },
     "output_type": "display_data"
    },
    {
     "data": {
      "image/png": "[encoded data removed]",
      "text/plain": [
       "<Figure size 576x72 with 2 Axes>"
      ]
     },
     "metadata": {
      "needs_background": "light"
     },
     "output_type": "display_data"
    },
    {
     "data": {
      "image/png": "[encoded data removed]",
      "text/plain": [
       "<Figure size 576x72 with 2 Axes>"
      ]
     },
     "metadata": {
      "needs_background": "light"
     },
     "output_type": "display_data"
    },
    {
     "name": "stdout",
     "output_type": "stream",
     "text": [
      "only use target genes, test data\n"
     ]
    }
   ],
   "source": [
    "c=np.load('C_ij.npy')\n",
    "c=c.reshape(c.shape[0],c.shape[1],32,73)\n",
    "c=np.sum(c,axis=-1)\n",
    "c.shape\n",
    "\n",
    "num_classes=2\n",
    "phenotype = ['Healthy','ALS']\n",
    "pheno2coefficients={}\n",
    "count = {}\n",
    "for i in range(len(c)):\n",
    "    ind = int(y_test[i])     #phenotype\n",
    "    if ind in pheno2coefficients.keys():\n",
    "        pheno2coefficients[ind] = pheno2coefficients[ind] + c[i]   #sum of coupling coefficients for each phenotype\n",
    "        count[ind] = count[ind] + 1   #sample counts for each type   \n",
    "    else:\n",
    "        pheno2coefficients[ind] = c[i]\n",
    "        count[ind] = 1\n",
    "\n",
    "total = np.zeros((c.shape[1],c.shape[-1]))\n",
    "\n",
    "#type average coupling coefficients\n",
    "fs=12\n",
    "for i in range(num_classes):\n",
    "    average = pheno2coefficients[i]/count[i]   #sum/count = average\n",
    "    k = i + 1\n",
    "    plt.figure(figsize=(8,1))\n",
    "    plt.title(phenotype[i],fontsize=fs+1)\n",
    "    total[i] = average[i]\n",
    "    df = pd.DataFrame(np.asmatrix(average),columns=list(range(1,c.shape[-1]+1)))\n",
    "    heatmap = sns.heatmap(df,yticklabels=phenotype,linewidths=.1,cmap=cmap)\n",
    "    plt.ylabel('PhenoCaps', fontsize=fs)\n",
    "    plt.xlabel('PrimaryCaps', fontsize=fs)\n",
    "plt.show()\n",
    "\n",
    "#overall heatmap\n",
    "plt.figure(figsize=(8,1))\n",
    "df = pd.DataFrame(np.asmatrix(total),index=phenotype,columns=list(range(1,c.shape[-1]+1)))\n",
    "ax = sns.heatmap(df,linewidths=.1,cmap=cmap)\n",
    "plt.title('Test data (core genes)',fontsize=fs+1)#for both healthy and ALS\n",
    "plt.ylabel('PhenoCaps', fontsize=fs)\n",
    "plt.xlabel('PrimaryCaps', fontsize=fs)\n",
    "plt.savefig('capsule_test.core_genes.cc_heatmap.png',dpi=400,bbox_inches='tight') \n",
    "plt.show()\n",
    "\n",
    "print(\"only use target genes, test data\");"
   ]
  },
  {
   "cell_type": "code",
   "execution_count": 26,
   "id": "exciting-extension",
   "metadata": {
    "ExecuteTime": {
     "end_time": "2021-11-03T16:59:44.584573Z",
     "start_time": "2021-11-03T16:59:44.581235Z"
    }
   },
   "outputs": [
    {
     "data": {
      "text/plain": [
       "0.03125"
      ]
     },
     "execution_count": 26,
     "metadata": {},
     "output_type": "execute_result"
    }
   ],
   "source": [
    "1/32"
   ]
  },
  {
   "cell_type": "code",
   "execution_count": 27,
   "id": "jewish-memorabilia",
   "metadata": {
    "ExecuteTime": {
     "end_time": "2021-11-03T16:59:57.714507Z",
     "start_time": "2021-11-03T16:59:49.560684Z"
    }
   },
   "outputs": [
    {
     "name": "stderr",
     "output_type": "stream",
     "text": [
      "/export/scratch1/home/vincent/software/miniconda3/envs/gpu/lib/python3.7/site-packages/ipykernel_launcher.py:39: UserWarning: Implicit dimension choice for softmax has been deprecated. Change the call to include dim=X as an argument.\n",
      "/export/scratch1/home/vincent/software/miniconda3/envs/gpu/lib/python3.7/site-packages/ipykernel_launcher.py:74: UserWarning: Implicit dimension choice for softmax has been deprecated. Change the call to include dim=X as an argument.\n"
     ]
    },
    {
     "data": {
      "image/png": "[encoded data removed]",
      "text/plain": [
       "<Figure size 576x72 with 2 Axes>"
      ]
     },
     "metadata": {
      "needs_background": "light"
     },
     "output_type": "display_data"
    },
    {
     "name": "stdout",
     "output_type": "stream",
     "text": [
      "\n"
     ]
    }
   ],
   "source": [
    "X2=X2.reshape(X2.shape[0],1,1,X2.shape[1])\n",
    "X2.shape\n",
    "\n",
    "cmap='YlOrBr'\n",
    "phenotype = ['Healthy','ALS']\n",
    "#For both train and test data\n",
    "c=compute_average_cij_for_traindata(X2,Y) \n",
    "c.shape\n",
    "fs=12\n",
    "\n",
    "#overall heatmap\n",
    "plt.figure(figsize=(8,1))\n",
    "df = pd.DataFrame(np.asmatrix(c),index=phenotype,columns=list(range(1,c.shape[-1]+1)))\n",
    "ax = sns.heatmap(df,linewidths=.1,cmap=cmap)\n",
    "plt.title('Train & Test Data, Overall',fontsize=fs+1)\n",
    "plt.ylabel('PhenoCaps', fontsize=fs)\n",
    "plt.xlabel('PrimaryCaps', fontsize=fs)\n",
    "plt.show()\n",
    "\n",
    "print();"
   ]
  },
  {
   "cell_type": "code",
   "execution_count": 28,
   "id": "imperial-piano",
   "metadata": {
    "ExecuteTime": {
     "end_time": "2021-11-03T17:00:05.277943Z",
     "start_time": "2021-11-03T16:59:57.716478Z"
    }
   },
   "outputs": [
    {
     "name": "stderr",
     "output_type": "stream",
     "text": [
      "/export/scratch1/home/vincent/software/miniconda3/envs/gpu/lib/python3.7/site-packages/ipykernel_launcher.py:39: UserWarning: Implicit dimension choice for softmax has been deprecated. Change the call to include dim=X as an argument.\n",
      "/export/scratch1/home/vincent/software/miniconda3/envs/gpu/lib/python3.7/site-packages/ipykernel_launcher.py:74: UserWarning: Implicit dimension choice for softmax has been deprecated. Change the call to include dim=X as an argument.\n"
     ]
    },
    {
     "data": {
      "image/png": "[encoded data removed]",
      "text/plain": [
       "<Figure size 576x72 with 2 Axes>"
      ]
     },
     "metadata": {
      "needs_background": "light"
     },
     "output_type": "display_data"
    },
    {
     "name": "stdout",
     "output_type": "stream",
     "text": [
      "\n"
     ]
    }
   ],
   "source": [
    "cmap='YlOrBr'\n",
    "phenotype = ['Healthy','ALS']\n",
    "#For both train and test data\n",
    "c=compute_average_cij_for_traindata(X2,Y) \n",
    "c.shape\n",
    "fs=12\n",
    "\n",
    "#overall heatmap\n",
    "plt.figure(figsize=(8,1))\n",
    "df = pd.DataFrame(np.asmatrix(c),index=phenotype,columns=list(range(1,c.shape[-1]+1)))\n",
    "ax = sns.heatmap(df,linewidths=.1,cmap=cmap)\n",
    "plt.title('Train & Test Data, Overall',fontsize=fs+1)\n",
    "plt.ylabel('PhenoCaps', fontsize=fs)\n",
    "plt.xlabel('PrimaryCaps', fontsize=fs)\n",
    "plt.show()\n",
    "\n",
    "print();"
   ]
  },
  {
   "cell_type": "code",
   "execution_count": null,
   "id": "authentic-source",
   "metadata": {},
   "outputs": [],
   "source": []
  },
  {
   "cell_type": "code",
   "execution_count": null,
   "id": "apparent-guinea",
   "metadata": {},
   "outputs": [],
   "source": []
  },
  {
   "cell_type": "code",
   "execution_count": null,
   "id": "another-flavor",
   "metadata": {},
   "outputs": [],
   "source": []
  },
  {
   "cell_type": "code",
   "execution_count": null,
   "id": "amazing-norman",
   "metadata": {},
   "outputs": [],
   "source": []
  },
  {
   "cell_type": "markdown",
   "id": "academic-institution",
   "metadata": {},
   "source": [
    "--- "
   ]
  },
  {
   "cell_type": "code",
   "execution_count": 29,
   "id": "vanilla-apollo",
   "metadata": {
    "ExecuteTime": {
     "end_time": "2021-11-03T17:00:05.283298Z",
     "start_time": "2021-11-03T17:00:05.279702Z"
    }
   },
   "outputs": [
    {
     "data": {
      "text/plain": [
       "922"
      ]
     },
     "execution_count": 29,
     "metadata": {},
     "output_type": "execute_result"
    }
   ],
   "source": [
    "\n",
    "len(target_genes)"
   ]
  },
  {
   "cell_type": "code",
   "execution_count": 30,
   "id": "roman-asbestos",
   "metadata": {
    "ExecuteTime": {
     "end_time": "2021-11-03T17:00:05.678223Z",
     "start_time": "2021-11-03T17:00:05.284610Z"
    }
   },
   "outputs": [
    {
     "data": {
      "text/plain": [
       "(1040, 75584)"
      ]
     },
     "execution_count": 30,
     "metadata": {},
     "output_type": "execute_result"
    }
   ],
   "source": [
    "\n",
    "x_test=X.iloc[te_idx]\n",
    "x_test=np.array(x_test)\n",
    "\n",
    "x_test.shape\n",
    "\n",
    "for i in range(X.shape[1]):\n",
    "    if X.columns[i].split(':')[1] in target_genes: #there are some duplicated genes located on different chrs\n",
    "#         x_test.iloc[:,i]=0. #replace in dataframe is very slow\n",
    "        x_test[:,i]=0.\n",
    "        "
   ]
  },
  {
   "cell_type": "code",
   "execution_count": 31,
   "id": "furnished-parade",
   "metadata": {
    "ExecuteTime": {
     "end_time": "2021-11-03T17:00:08.165036Z",
     "start_time": "2021-11-03T17:00:07.568312Z"
    }
   },
   "outputs": [
    {
     "name": "stderr",
     "output_type": "stream",
     "text": [
      "/export/scratch1/home/vincent/software/miniconda3/envs/gpu/lib/python3.7/site-packages/ipykernel_launcher.py:39: UserWarning: Implicit dimension choice for softmax has been deprecated. Change the call to include dim=X as an argument.\n",
      "/export/scratch1/home/vincent/software/miniconda3/envs/gpu/lib/python3.7/site-packages/ipykernel_launcher.py:74: UserWarning: Implicit dimension choice for softmax has been deprecated. Change the call to include dim=X as an argument.\n"
     ]
    },
    {
     "name": "stdout",
     "output_type": "stream",
     "text": [
      "0.85\t0.89\t0.87\t0.866\n",
      "\n"
     ]
    }
   ],
   "source": [
    "x_test=x_test.reshape(x_test.shape[0],1,1,x_test.shape[1])\n",
    "\n",
    "in_test=Variable(torch.tensor(x_test).to(device))\n",
    "y_pred = model(in_test).detach().cpu().numpy()\n",
    "\n",
    "y_pred = np.argmax(y_pred, axis=1)\n",
    "y_true = y_test\n",
    "\n",
    "\n",
    "tn, fp, fn, tp = confusion_matrix(y_true, y_pred).ravel()\n",
    "acc = round((tp + tn) * 1. / (tp + fp + tn + fn),3)\n",
    "precision = round(tp*1./(tp+fp),3)\n",
    "recall = round(tp*1./(tp+fn),3)\n",
    "f1=round(2*(precision*recall)/(precision+recall),3)\n",
    "\n",
    "print('\\t'.join(list(map(str,[precision,recall,f1,acc])))+'\\n')"
   ]
  },
  {
   "cell_type": "code",
   "execution_count": 32,
   "id": "fiscal-villa",
   "metadata": {
    "ExecuteTime": {
     "end_time": "2021-11-03T17:00:11.546590Z",
     "start_time": "2021-11-03T17:00:10.571825Z"
    }
   },
   "outputs": [
    {
     "data": {
      "image/png": "[encoded data removed]",
      "text/plain": [
       "<Figure size 576x72 with 2 Axes>"
      ]
     },
     "metadata": {
      "needs_background": "light"
     },
     "output_type": "display_data"
    },
    {
     "data": {
      "image/png": "[encoded data removed]",
      "text/plain": [
       "<Figure size 576x72 with 2 Axes>"
      ]
     },
     "metadata": {
      "needs_background": "light"
     },
     "output_type": "display_data"
    },
    {
     "data": {
      "image/png": "[encoded data removed]",
      "text/plain": [
       "<Figure size 576x72 with 2 Axes>"
      ]
     },
     "metadata": {
      "needs_background": "light"
     },
     "output_type": "display_data"
    },
    {
     "name": "stdout",
     "output_type": "stream",
     "text": [
      "\n"
     ]
    }
   ],
   "source": [
    "c=np.load('C_ij.npy')\n",
    "c=c.reshape(c.shape[0],c.shape[1],32,73)\n",
    "c=np.sum(c,axis=-1)\n",
    "c.shape\n",
    "\n",
    "num_classes=2\n",
    "phenotype = ['Healthy','ALS']\n",
    "pheno2coefficients={}\n",
    "count = {}\n",
    "for i in range(len(c)):\n",
    "    ind = int(y_test[i])     #phenotype\n",
    "    if ind in pheno2coefficients.keys():\n",
    "        pheno2coefficients[ind] = pheno2coefficients[ind] + c[i]   #sum of coupling coefficients for each phenotype\n",
    "        count[ind] = count[ind] + 1   #sample counts for each type   \n",
    "    else:\n",
    "        pheno2coefficients[ind] = c[i]\n",
    "        count[ind] = 1\n",
    "\n",
    "total = np.zeros((c.shape[1],c.shape[-1]))\n",
    "\n",
    "#type average coupling coefficients\n",
    "fs=12\n",
    "for i in range(num_classes):\n",
    "    average = pheno2coefficients[i]/count[i]   #sum/count = average\n",
    "    k = i + 1\n",
    "    plt.figure(figsize=(8,1))\n",
    "    plt.title(phenotype[i],fontsize=fs+1)\n",
    "    total[i] = average[i]\n",
    "    df = pd.DataFrame(np.asmatrix(average),columns=list(range(1,c.shape[-1]+1)))\n",
    "    heatmap = sns.heatmap(df,yticklabels=phenotype,linewidths=.1,cmap=cmap)\n",
    "    plt.ylabel('PhenoCaps', fontsize=fs)\n",
    "    plt.xlabel('PrimaryCaps', fontsize=fs)\n",
    "plt.show()\n",
    "\n",
    "#overall heatmap\n",
    "plt.figure(figsize=(8,1))\n",
    "df = pd.DataFrame(np.asmatrix(total),index=phenotype,columns=list(range(1,c.shape[-1]+1)))\n",
    "ax = sns.heatmap(df,linewidths=.1,cmap=cmap)\n",
    "plt.title('Overall',fontsize=fs+1)\n",
    "plt.ylabel('PhenoCaps', fontsize=fs)\n",
    "plt.xlabel('PrimaryCaps', fontsize=fs)\n",
    "plt.show()\n",
    "\n",
    "print();"
   ]
  },
  {
   "cell_type": "code",
   "execution_count": null,
   "id": "flexible-alias",
   "metadata": {},
   "outputs": [],
   "source": []
  },
  {
   "cell_type": "markdown",
   "id": "universal-plate",
   "metadata": {},
   "source": [
    "# only feed randomly chosen k genes into capsule network"
   ]
  },
  {
   "cell_type": "code",
   "execution_count": 35,
   "id": "cosmetic-taylor",
   "metadata": {
    "ExecuteTime": {
     "end_time": "2021-11-03T13:36:17.575684Z",
     "start_time": "2021-11-03T13:17:29.135192Z"
    }
   },
   "outputs": [
    {
     "name": "stderr",
     "output_type": "stream",
     "text": [
      "/export/scratch1/home/vincent/software/miniconda3/envs/gpu/lib/python3.7/site-packages/ipykernel_launcher.py:39: UserWarning: Implicit dimension choice for softmax has been deprecated. Change the call to include dim=X as an argument.\n",
      "/export/scratch1/home/vincent/software/miniconda3/envs/gpu/lib/python3.7/site-packages/ipykernel_launcher.py:74: UserWarning: Implicit dimension choice for softmax has been deprecated. Change the call to include dim=X as an argument.\n"
     ]
    }
   ],
   "source": [
    "res_rand_kgenes=[]\n",
    "# num_genes=[50,69,100,118,300,500] #69,118 for acc>0.5 recall>0 genes\n",
    "# num_genes=[69,118] #69,118 for acc>0.5 recall>0 genes\n",
    "num_genes=[922] #95th percentile\n",
    "for k in num_genes:\n",
    "    # k=100 #number of randomly chosen genes\n",
    "    for _ in range(1000):\n",
    "        target_genes={}\n",
    "        all_input_genes=[]\n",
    "        with open('all_input.genes') as fr:\n",
    "            for line in fr:\n",
    "                all_input_genes.append(line.strip())\n",
    "\n",
    "        random.shuffle(all_input_genes)\n",
    "        target_genes={gene:1 for gene in random.sample(all_input_genes,k)}\n",
    "        # len(target_genes)\n",
    "\n",
    "        # test dataset\n",
    "        te_idx = [int(line.strip()) for line in open(\"../test.idx\", 'r')]\n",
    "\n",
    "        x_test=X.iloc[te_idx]\n",
    "        x_test=np.array(x_test)\n",
    "\n",
    "        for i in range(X.shape[1]):\n",
    "            if X.columns[i].split(':')[1] not in target_genes: #there are some duplicated genes located on different chrs\n",
    "        #         x_test.iloc[:,i]=0. #replace in dataframe is very slow\n",
    "                x_test[:,i]=0.\n",
    "\n",
    "        x_test=x_test.reshape(x_test.shape[0],1,1,x_test.shape[1])\n",
    "\n",
    "        in_test=Variable(torch.tensor(x_test).to(device))\n",
    "        y_pred = model(in_test).detach().cpu().numpy()\n",
    "\n",
    "        y_pred = np.argmax(y_pred, axis=1)\n",
    "        y_true = y_test\n",
    "\n",
    "\n",
    "        tn, fp, fn, tp = confusion_matrix(y_true, y_pred).ravel()\n",
    "        acc = round((tp + tn) * 1. / (tp + fp + tn + fn),3)\n",
    "        precision = round(tp*1./(tp+fp),3)\n",
    "        recall = round(tp*1./(tp+fn),3)\n",
    "        f1=round(2*(precision*recall)/(precision+recall),3)\n",
    "\n",
    "    #     print('\\t'.join(list(map(str,[precision,recall,f1,acc])))+'\\n')\n",
    "        res_rand_kgenes.append([k,precision,recall,f1,acc])"
   ]
  },
  {
   "cell_type": "code",
   "execution_count": 36,
   "id": "equipped-cancer",
   "metadata": {
    "ExecuteTime": {
     "end_time": "2021-11-03T13:36:17.628968Z",
     "start_time": "2021-11-03T13:36:17.577592Z"
    }
   },
   "outputs": [
    {
     "data": {
      "text/html": [
       "<div>\n",
       "<style scoped>\n",
       "    .dataframe tbody tr th:only-of-type {\n",
       "        vertical-align: middle;\n",
       "    }\n",
       "\n",
       "    .dataframe tbody tr th {\n",
       "        vertical-align: top;\n",
       "    }\n",
       "\n",
       "    .dataframe thead th {\n",
       "        text-align: right;\n",
       "    }\n",
       "</style>\n",
       "<table border=\"1\" class=\"dataframe\">\n",
       "  <thead>\n",
       "    <tr style=\"text-align: right;\">\n",
       "      <th></th>\n",
       "      <th>numOfGenes</th>\n",
       "      <th>precision</th>\n",
       "      <th>recall</th>\n",
       "      <th>f1</th>\n",
       "      <th>accuracy</th>\n",
       "    </tr>\n",
       "  </thead>\n",
       "  <tbody>\n",
       "    <tr>\n",
       "      <th>0</th>\n",
       "      <td>922</td>\n",
       "      <td>0.766</td>\n",
       "      <td>0.604</td>\n",
       "      <td>0.675</td>\n",
       "      <td>0.710</td>\n",
       "    </tr>\n",
       "    <tr>\n",
       "      <th>1</th>\n",
       "      <td>922</td>\n",
       "      <td>0.766</td>\n",
       "      <td>0.579</td>\n",
       "      <td>0.660</td>\n",
       "      <td>0.701</td>\n",
       "    </tr>\n",
       "    <tr>\n",
       "      <th>2</th>\n",
       "      <td>922</td>\n",
       "      <td>0.771</td>\n",
       "      <td>0.660</td>\n",
       "      <td>0.711</td>\n",
       "      <td>0.732</td>\n",
       "    </tr>\n",
       "    <tr>\n",
       "      <th>3</th>\n",
       "      <td>922</td>\n",
       "      <td>0.758</td>\n",
       "      <td>0.585</td>\n",
       "      <td>0.660</td>\n",
       "      <td>0.699</td>\n",
       "    </tr>\n",
       "  </tbody>\n",
       "</table>\n",
       "</div>"
      ],
      "text/plain": [
       "   numOfGenes  precision  recall     f1  accuracy\n",
       "0         922      0.766   0.604  0.675     0.710\n",
       "1         922      0.766   0.579  0.660     0.701\n",
       "2         922      0.771   0.660  0.711     0.732\n",
       "3         922      0.758   0.585  0.660     0.699"
      ]
     },
     "execution_count": 36,
     "metadata": {},
     "output_type": "execute_result"
    }
   ],
   "source": [
    "res_rand_kgenes=pd.DataFrame(res_rand_kgenes,columns=['numOfGenes','precision','recall','f1','accuracy'])\n",
    "res_rand_kgenes[:4]"
   ]
  },
  {
   "cell_type": "code",
   "execution_count": 84,
   "id": "every-interaction",
   "metadata": {
    "ExecuteTime": {
     "end_time": "2021-11-03T15:25:23.696422Z",
     "start_time": "2021-11-03T15:25:22.735505Z"
    }
   },
   "outputs": [
    {
     "data": {
      "text/plain": [
       "<matplotlib.axes._subplots.AxesSubplot at 0x7f567d375e90>"
      ]
     },
     "execution_count": 84,
     "metadata": {},
     "output_type": "execute_result"
    },
    {
     "data": {
      "text/plain": [
       "<matplotlib.lines.Line2D at 0x7f567d2c8c50>"
      ]
     },
     "execution_count": 84,
     "metadata": {},
     "output_type": "execute_result"
    },
    {
     "data": {
      "text/plain": [
       "Text(0.5, 0, 'Test accuracy (random genes)')"
      ]
     },
     "execution_count": 84,
     "metadata": {},
     "output_type": "execute_result"
    },
    {
     "data": {
      "text/plain": [
       "Text(0, 0.5, 'Density')"
      ]
     },
     "execution_count": 84,
     "metadata": {},
     "output_type": "execute_result"
    },
    {
     "data": {
      "image/png": "[encoded data removed]",
      "text/plain": [
       "<Figure size 432x288 with 1 Axes>"
      ]
     },
     "metadata": {
      "needs_background": "light"
     },
     "output_type": "display_data"
    }
   ],
   "source": [
    "sns.distplot(res_rand_kgenes['accuracy'])\n",
    "plt.axvline(x=0.76,color='red', linestyle='dashed')\n",
    "plt.xlabel('Test accuracy (random genes)',fontsize=12)\n",
    "plt.ylabel('Density',fontsize=12)\n",
    "\n",
    "plt.savefig('random_genes.accuray_dist.png',dpi=400,bbox_inches='tight') #bbox_inches='tight' ,keep all elements in fig\n",
    "plt.show()"
   ]
  },
  {
   "cell_type": "code",
   "execution_count": 41,
   "id": "religious-boulder",
   "metadata": {
    "ExecuteTime": {
     "end_time": "2021-11-03T14:23:10.042382Z",
     "start_time": "2021-11-03T14:23:09.770759Z"
    },
    "scrolled": true
   },
   "outputs": [
    {
     "data": {
      "text/html": [
       "<div>\n",
       "<style scoped>\n",
       "    .dataframe tbody tr th:only-of-type {\n",
       "        vertical-align: middle;\n",
       "    }\n",
       "\n",
       "    .dataframe tbody tr th {\n",
       "        vertical-align: top;\n",
       "    }\n",
       "\n",
       "    .dataframe thead th {\n",
       "        text-align: right;\n",
       "    }\n",
       "</style>\n",
       "<table border=\"1\" class=\"dataframe\">\n",
       "  <thead>\n",
       "    <tr style=\"text-align: right;\">\n",
       "      <th></th>\n",
       "      <th>precision</th>\n",
       "      <th>recall</th>\n",
       "      <th>f1</th>\n",
       "      <th>accuracy</th>\n",
       "    </tr>\n",
       "    <tr>\n",
       "      <th>numOfGenes</th>\n",
       "      <th></th>\n",
       "      <th></th>\n",
       "      <th></th>\n",
       "      <th></th>\n",
       "    </tr>\n",
       "  </thead>\n",
       "  <tbody>\n",
       "    <tr>\n",
       "      <th>922</th>\n",
       "      <td>0.74708</td>\n",
       "      <td>0.6119</td>\n",
       "      <td>0.67259</td>\n",
       "      <td>0.702284</td>\n",
       "    </tr>\n",
       "  </tbody>\n",
       "</table>\n",
       "</div>"
      ],
      "text/plain": [
       "            precision  recall       f1  accuracy\n",
       "numOfGenes                                      \n",
       "922           0.74708  0.6119  0.67259  0.702284"
      ]
     },
     "execution_count": 41,
     "metadata": {},
     "output_type": "execute_result"
    },
    {
     "data": {
      "text/html": [
       "<div>\n",
       "<style scoped>\n",
       "    .dataframe tbody tr th:only-of-type {\n",
       "        vertical-align: middle;\n",
       "    }\n",
       "\n",
       "    .dataframe tbody tr th {\n",
       "        vertical-align: top;\n",
       "    }\n",
       "\n",
       "    .dataframe thead th {\n",
       "        text-align: right;\n",
       "    }\n",
       "</style>\n",
       "<table border=\"1\" class=\"dataframe\">\n",
       "  <thead>\n",
       "    <tr style=\"text-align: right;\">\n",
       "      <th></th>\n",
       "      <th>precision</th>\n",
       "      <th>recall</th>\n",
       "      <th>f1</th>\n",
       "      <th>accuracy</th>\n",
       "    </tr>\n",
       "    <tr>\n",
       "      <th>numOfGenes</th>\n",
       "      <th></th>\n",
       "      <th></th>\n",
       "      <th></th>\n",
       "      <th></th>\n",
       "    </tr>\n",
       "  </thead>\n",
       "  <tbody>\n",
       "    <tr>\n",
       "      <th>922</th>\n",
       "      <td>0.799</td>\n",
       "      <td>0.679</td>\n",
       "      <td>0.719</td>\n",
       "      <td>0.741</td>\n",
       "    </tr>\n",
       "  </tbody>\n",
       "</table>\n",
       "</div>"
      ],
      "text/plain": [
       "            precision  recall     f1  accuracy\n",
       "numOfGenes                                    \n",
       "922             0.799   0.679  0.719     0.741"
      ]
     },
     "execution_count": 41,
     "metadata": {},
     "output_type": "execute_result"
    }
   ],
   "source": [
    "res_rand_kgenes.groupby('numOfGenes').mean()\n",
    "res_rand_kgenes.groupby('numOfGenes').max()"
   ]
  },
  {
   "cell_type": "code",
   "execution_count": 42,
   "id": "cardiac-statistics",
   "metadata": {
    "ExecuteTime": {
     "end_time": "2021-11-03T14:23:26.960361Z",
     "start_time": "2021-11-03T14:23:26.934355Z"
    }
   },
   "outputs": [
    {
     "data": {
      "text/html": [
       "<div>\n",
       "<style scoped>\n",
       "    .dataframe tbody tr th:only-of-type {\n",
       "        vertical-align: middle;\n",
       "    }\n",
       "\n",
       "    .dataframe tbody tr th {\n",
       "        vertical-align: top;\n",
       "    }\n",
       "\n",
       "    .dataframe thead th {\n",
       "        text-align: right;\n",
       "    }\n",
       "</style>\n",
       "<table border=\"1\" class=\"dataframe\">\n",
       "  <thead>\n",
       "    <tr style=\"text-align: right;\">\n",
       "      <th></th>\n",
       "      <th>precision</th>\n",
       "      <th>recall</th>\n",
       "      <th>f1</th>\n",
       "      <th>accuracy</th>\n",
       "    </tr>\n",
       "    <tr>\n",
       "      <th>numOfGenes</th>\n",
       "      <th></th>\n",
       "      <th></th>\n",
       "      <th></th>\n",
       "      <th></th>\n",
       "    </tr>\n",
       "  </thead>\n",
       "  <tbody>\n",
       "    <tr>\n",
       "      <th>922</th>\n",
       "      <td>0.74708</td>\n",
       "      <td>0.6119</td>\n",
       "      <td>0.67259</td>\n",
       "      <td>0.702284</td>\n",
       "    </tr>\n",
       "  </tbody>\n",
       "</table>\n",
       "</div>"
      ],
      "text/plain": [
       "            precision  recall       f1  accuracy\n",
       "numOfGenes                                      \n",
       "922           0.74708  0.6119  0.67259  0.702284"
      ]
     },
     "execution_count": 42,
     "metadata": {},
     "output_type": "execute_result"
    },
    {
     "data": {
      "text/html": [
       "<div>\n",
       "<style scoped>\n",
       "    .dataframe tbody tr th:only-of-type {\n",
       "        vertical-align: middle;\n",
       "    }\n",
       "\n",
       "    .dataframe tbody tr th {\n",
       "        vertical-align: top;\n",
       "    }\n",
       "\n",
       "    .dataframe thead th {\n",
       "        text-align: right;\n",
       "    }\n",
       "</style>\n",
       "<table border=\"1\" class=\"dataframe\">\n",
       "  <thead>\n",
       "    <tr style=\"text-align: right;\">\n",
       "      <th></th>\n",
       "      <th>precision</th>\n",
       "      <th>recall</th>\n",
       "      <th>f1</th>\n",
       "      <th>accuracy</th>\n",
       "    </tr>\n",
       "    <tr>\n",
       "      <th>numOfGenes</th>\n",
       "      <th></th>\n",
       "      <th></th>\n",
       "      <th></th>\n",
       "      <th></th>\n",
       "    </tr>\n",
       "  </thead>\n",
       "  <tbody>\n",
       "    <tr>\n",
       "      <th>922</th>\n",
       "      <td>0.016167</td>\n",
       "      <td>0.019846</td>\n",
       "      <td>0.0156</td>\n",
       "      <td>0.012743</td>\n",
       "    </tr>\n",
       "  </tbody>\n",
       "</table>\n",
       "</div>"
      ],
      "text/plain": [
       "            precision    recall      f1  accuracy\n",
       "numOfGenes                                       \n",
       "922          0.016167  0.019846  0.0156  0.012743"
      ]
     },
     "execution_count": 42,
     "metadata": {},
     "output_type": "execute_result"
    }
   ],
   "source": [
    "res_rand_kgenes.groupby('numOfGenes').mean()\n",
    "res_rand_kgenes.groupby('numOfGenes').std()\n"
   ]
  },
  {
   "cell_type": "code",
   "execution_count": null,
   "id": "dressed-marketing",
   "metadata": {},
   "outputs": [],
   "source": []
  }
 ],
 "metadata": {
  "kernelspec": {
   "display_name": "Python 3",
   "language": "python",
   "name": "python3"
  },
  "language_info": {
   "codemirror_mode": {
    "name": "ipython",
    "version": 3
   },
   "file_extension": ".py",
   "mimetype": "text/x-python",
   "name": "python",
   "nbconvert_exporter": "python",
   "pygments_lexer": "ipython3",
   "version": "3.8.8"
  },
  "toc": {
   "base_numbering": 1,
   "nav_menu": {},
   "number_sections": true,
   "sideBar": true,
   "skip_h1_title": false,
   "title_cell": "Table of Contents",
   "title_sidebar": "Contents",
   "toc_cell": false,
   "toc_position": {
    "height": "calc(100% - 180px)",
    "left": "10px",
    "top": "150px",
    "width": "328.675px"
   },
   "toc_section_display": true,
   "toc_window_display": true
  }
 },
 "nbformat": 4,
 "nbformat_minor": 5
}
